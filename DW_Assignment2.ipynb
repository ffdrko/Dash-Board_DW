{
  "nbformat": 4,
  "nbformat_minor": 0,
  "metadata": {
    "colab": {
      "provenance": []
    },
    "kernelspec": {
      "name": "python3",
      "display_name": "Python 3"
    },
    "language_info": {
      "name": "python"
    }
  },
  "cells": [
    {
      "cell_type": "markdown",
      "source": [
        "#Install libraries"
      ],
      "metadata": {
        "id": "QO5ll2YK7Xgm"
      }
    },
    {
      "cell_type": "code",
      "execution_count": 7,
      "metadata": {
        "colab": {
          "base_uri": "https://localhost:8080/"
        },
        "id": "cN9W5f5SvzYJ",
        "outputId": "e7a22f30-e407-45ca-9a77-22f8030665e5"
      },
      "outputs": [
        {
          "output_type": "stream",
          "name": "stdout",
          "text": [
            "Requirement already satisfied: dash in /usr/local/lib/python3.11/dist-packages (2.18.2)\n",
            "Requirement already satisfied: Flask<3.1,>=1.0.4 in /usr/local/lib/python3.11/dist-packages (from dash) (3.0.3)\n",
            "Requirement already satisfied: Werkzeug<3.1 in /usr/local/lib/python3.11/dist-packages (from dash) (3.0.6)\n",
            "Requirement already satisfied: plotly>=5.0.0 in /usr/local/lib/python3.11/dist-packages (from dash) (5.24.1)\n",
            "Requirement already satisfied: dash-html-components==2.0.0 in /usr/local/lib/python3.11/dist-packages (from dash) (2.0.0)\n",
            "Requirement already satisfied: dash-core-components==2.0.0 in /usr/local/lib/python3.11/dist-packages (from dash) (2.0.0)\n",
            "Requirement already satisfied: dash-table==5.0.0 in /usr/local/lib/python3.11/dist-packages (from dash) (5.0.0)\n",
            "Requirement already satisfied: importlib-metadata in /usr/local/lib/python3.11/dist-packages (from dash) (8.6.1)\n",
            "Requirement already satisfied: typing-extensions>=4.1.1 in /usr/local/lib/python3.11/dist-packages (from dash) (4.12.2)\n",
            "Requirement already satisfied: requests in /usr/local/lib/python3.11/dist-packages (from dash) (2.32.3)\n",
            "Requirement already satisfied: retrying in /usr/local/lib/python3.11/dist-packages (from dash) (1.3.4)\n",
            "Requirement already satisfied: nest-asyncio in /usr/local/lib/python3.11/dist-packages (from dash) (1.6.0)\n",
            "Requirement already satisfied: setuptools in /usr/local/lib/python3.11/dist-packages (from dash) (75.1.0)\n",
            "Requirement already satisfied: Jinja2>=3.1.2 in /usr/local/lib/python3.11/dist-packages (from Flask<3.1,>=1.0.4->dash) (3.1.5)\n",
            "Requirement already satisfied: itsdangerous>=2.1.2 in /usr/local/lib/python3.11/dist-packages (from Flask<3.1,>=1.0.4->dash) (2.2.0)\n",
            "Requirement already satisfied: click>=8.1.3 in /usr/local/lib/python3.11/dist-packages (from Flask<3.1,>=1.0.4->dash) (8.1.8)\n",
            "Requirement already satisfied: blinker>=1.6.2 in /usr/local/lib/python3.11/dist-packages (from Flask<3.1,>=1.0.4->dash) (1.9.0)\n",
            "Requirement already satisfied: tenacity>=6.2.0 in /usr/local/lib/python3.11/dist-packages (from plotly>=5.0.0->dash) (9.0.0)\n",
            "Requirement already satisfied: packaging in /usr/local/lib/python3.11/dist-packages (from plotly>=5.0.0->dash) (24.2)\n",
            "Requirement already satisfied: MarkupSafe>=2.1.1 in /usr/local/lib/python3.11/dist-packages (from Werkzeug<3.1->dash) (3.0.2)\n",
            "Requirement already satisfied: zipp>=3.20 in /usr/local/lib/python3.11/dist-packages (from importlib-metadata->dash) (3.21.0)\n",
            "Requirement already satisfied: charset-normalizer<4,>=2 in /usr/local/lib/python3.11/dist-packages (from requests->dash) (3.4.1)\n",
            "Requirement already satisfied: idna<4,>=2.5 in /usr/local/lib/python3.11/dist-packages (from requests->dash) (3.10)\n",
            "Requirement already satisfied: urllib3<3,>=1.21.1 in /usr/local/lib/python3.11/dist-packages (from requests->dash) (2.3.0)\n",
            "Requirement already satisfied: certifi>=2017.4.17 in /usr/local/lib/python3.11/dist-packages (from requests->dash) (2025.1.31)\n",
            "Requirement already satisfied: six>=1.7.0 in /usr/local/lib/python3.11/dist-packages (from retrying->dash) (1.17.0)\n"
          ]
        }
      ],
      "source": [
        "!pip install dash"
      ]
    },
    {
      "cell_type": "code",
      "source": [
        "!pip install dash-bootstrap-components"
      ],
      "metadata": {
        "colab": {
          "base_uri": "https://localhost:8080/"
        },
        "id": "mrsUcWZVv7K_",
        "outputId": "920f4718-c05e-4c36-a141-9010b926e22c"
      },
      "execution_count": 8,
      "outputs": [
        {
          "output_type": "stream",
          "name": "stdout",
          "text": [
            "Requirement already satisfied: dash-bootstrap-components in /usr/local/lib/python3.11/dist-packages (1.7.1)\n",
            "Requirement already satisfied: dash>=2.0.0 in /usr/local/lib/python3.11/dist-packages (from dash-bootstrap-components) (2.18.2)\n",
            "Requirement already satisfied: Flask<3.1,>=1.0.4 in /usr/local/lib/python3.11/dist-packages (from dash>=2.0.0->dash-bootstrap-components) (3.0.3)\n",
            "Requirement already satisfied: Werkzeug<3.1 in /usr/local/lib/python3.11/dist-packages (from dash>=2.0.0->dash-bootstrap-components) (3.0.6)\n",
            "Requirement already satisfied: plotly>=5.0.0 in /usr/local/lib/python3.11/dist-packages (from dash>=2.0.0->dash-bootstrap-components) (5.24.1)\n",
            "Requirement already satisfied: dash-html-components==2.0.0 in /usr/local/lib/python3.11/dist-packages (from dash>=2.0.0->dash-bootstrap-components) (2.0.0)\n",
            "Requirement already satisfied: dash-core-components==2.0.0 in /usr/local/lib/python3.11/dist-packages (from dash>=2.0.0->dash-bootstrap-components) (2.0.0)\n",
            "Requirement already satisfied: dash-table==5.0.0 in /usr/local/lib/python3.11/dist-packages (from dash>=2.0.0->dash-bootstrap-components) (5.0.0)\n",
            "Requirement already satisfied: importlib-metadata in /usr/local/lib/python3.11/dist-packages (from dash>=2.0.0->dash-bootstrap-components) (8.6.1)\n",
            "Requirement already satisfied: typing-extensions>=4.1.1 in /usr/local/lib/python3.11/dist-packages (from dash>=2.0.0->dash-bootstrap-components) (4.12.2)\n",
            "Requirement already satisfied: requests in /usr/local/lib/python3.11/dist-packages (from dash>=2.0.0->dash-bootstrap-components) (2.32.3)\n",
            "Requirement already satisfied: retrying in /usr/local/lib/python3.11/dist-packages (from dash>=2.0.0->dash-bootstrap-components) (1.3.4)\n",
            "Requirement already satisfied: nest-asyncio in /usr/local/lib/python3.11/dist-packages (from dash>=2.0.0->dash-bootstrap-components) (1.6.0)\n",
            "Requirement already satisfied: setuptools in /usr/local/lib/python3.11/dist-packages (from dash>=2.0.0->dash-bootstrap-components) (75.1.0)\n",
            "Requirement already satisfied: Jinja2>=3.1.2 in /usr/local/lib/python3.11/dist-packages (from Flask<3.1,>=1.0.4->dash>=2.0.0->dash-bootstrap-components) (3.1.5)\n",
            "Requirement already satisfied: itsdangerous>=2.1.2 in /usr/local/lib/python3.11/dist-packages (from Flask<3.1,>=1.0.4->dash>=2.0.0->dash-bootstrap-components) (2.2.0)\n",
            "Requirement already satisfied: click>=8.1.3 in /usr/local/lib/python3.11/dist-packages (from Flask<3.1,>=1.0.4->dash>=2.0.0->dash-bootstrap-components) (8.1.8)\n",
            "Requirement already satisfied: blinker>=1.6.2 in /usr/local/lib/python3.11/dist-packages (from Flask<3.1,>=1.0.4->dash>=2.0.0->dash-bootstrap-components) (1.9.0)\n",
            "Requirement already satisfied: tenacity>=6.2.0 in /usr/local/lib/python3.11/dist-packages (from plotly>=5.0.0->dash>=2.0.0->dash-bootstrap-components) (9.0.0)\n",
            "Requirement already satisfied: packaging in /usr/local/lib/python3.11/dist-packages (from plotly>=5.0.0->dash>=2.0.0->dash-bootstrap-components) (24.2)\n",
            "Requirement already satisfied: MarkupSafe>=2.1.1 in /usr/local/lib/python3.11/dist-packages (from Werkzeug<3.1->dash>=2.0.0->dash-bootstrap-components) (3.0.2)\n",
            "Requirement already satisfied: zipp>=3.20 in /usr/local/lib/python3.11/dist-packages (from importlib-metadata->dash>=2.0.0->dash-bootstrap-components) (3.21.0)\n",
            "Requirement already satisfied: charset-normalizer<4,>=2 in /usr/local/lib/python3.11/dist-packages (from requests->dash>=2.0.0->dash-bootstrap-components) (3.4.1)\n",
            "Requirement already satisfied: idna<4,>=2.5 in /usr/local/lib/python3.11/dist-packages (from requests->dash>=2.0.0->dash-bootstrap-components) (3.10)\n",
            "Requirement already satisfied: urllib3<3,>=1.21.1 in /usr/local/lib/python3.11/dist-packages (from requests->dash>=2.0.0->dash-bootstrap-components) (2.3.0)\n",
            "Requirement already satisfied: certifi>=2017.4.17 in /usr/local/lib/python3.11/dist-packages (from requests->dash>=2.0.0->dash-bootstrap-components) (2025.1.31)\n",
            "Requirement already satisfied: six>=1.7.0 in /usr/local/lib/python3.11/dist-packages (from retrying->dash>=2.0.0->dash-bootstrap-components) (1.17.0)\n"
          ]
        }
      ]
    },
    {
      "cell_type": "markdown",
      "source": [
        "#Importing the Libraries"
      ],
      "metadata": {
        "id": "480S-0Sf7jOV"
      }
    },
    {
      "cell_type": "code",
      "source": [
        "import dash\n",
        "import dash_bootstrap_components as dbc\n",
        "from dash import dcc, html, Input, Output\n",
        "import pandas as pd\n",
        "import plotly.express as px\n",
        "from sklearn.cluster import KMeans, DBSCAN\n",
        "from sklearn.preprocessing import StandardScaler\n",
        "import numpy as np\n",
        "from dash import dash_table\n",
        "import io\n",
        "import base64"
      ],
      "metadata": {
        "id": "-bvewqJKv-pH"
      },
      "execution_count": 10,
      "outputs": []
    },
    {
      "cell_type": "code",
      "source": [
        "# Load dataset\n",
        "df = pd.read_csv(\"/content/Wholesale customers data.csv\").dropna()\n",
        "num_features = ['Fresh', 'Milk', 'Grocery', 'Frozen', 'Detergents_Paper', 'Delicassen']\n",
        "data = df[num_features]"
      ],
      "metadata": {
        "id": "dewHh0fEwTCW"
      },
      "execution_count": 11,
      "outputs": []
    },
    {
      "cell_type": "code",
      "source": [
        "# Standardize data\n",
        "scaler = StandardScaler()\n",
        "data_scaled = scaler.fit_transform(data)"
      ],
      "metadata": {
        "id": "riH4LnZf7Eeu"
      },
      "execution_count": 12,
      "outputs": []
    },
    {
      "cell_type": "code",
      "source": [
        "# Function to perform clustering\n",
        "def perform_clustering(data, algorithm, n_clusters=3, eps=0.5, min_samples=5):\n",
        "    if algorithm == \"KMeans\":\n",
        "        model = KMeans(n_clusters=n_clusters, random_state=42)\n",
        "        clusters = model.fit_predict(data)\n",
        "    elif algorithm == \"DBSCAN\":\n",
        "        model = DBSCAN(eps=eps, min_samples=min_samples)\n",
        "        clusters = model.fit_predict(data)\n",
        "    else:\n",
        "        clusters = np.zeros(data.shape[0])\n",
        "    return clusters"
      ],
      "metadata": {
        "id": "ZK7hnCBm7JTG"
      },
      "execution_count": 13,
      "outputs": []
    },
    {
      "cell_type": "markdown",
      "source": [
        "# Dashboard Functions"
      ],
      "metadata": {
        "id": "iLaN7ydN7rum"
      }
    },
    {
      "cell_type": "code",
      "source": [
        "def generate_csv(df):\n",
        "    output = io.StringIO()\n",
        "    df.to_csv(output, index=False)\n",
        "    return \"data:text/csv;base64,\" + base64.b64encode(output.getvalue().encode()).decode()\n",
        "\n",
        "app = dash.Dash(__name__, external_stylesheets=[dbc.themes.BOOTSTRAP])\n",
        "\n",
        "app.layout = dbc.Container([\n",
        "    dbc.Row([\n",
        "        dbc.Col(html.H1(\"Interactive Clustering Dashboard\", className=\"text-center text-primary mb-4\"), width=12)\n",
        "    ]),\n",
        "\n",
        "    dbc.Row([\n",
        "        dbc.Col([\n",
        "            html.Label(\"Select Clustering Algorithm\"),\n",
        "            dcc.Dropdown(\n",
        "                id='algorithm-dropdown',\n",
        "                options=[\n",
        "                    {'label': 'KMeans', 'value': 'KMeans'},\n",
        "                    {'label': 'DBSCAN', 'value': 'DBSCAN'}\n",
        "                ],\n",
        "                value='KMeans',\n",
        "                className=\"mb-3\"\n",
        "            ),\n",
        "            html.Label(\"Select Features for Scatter Plot\"),\n",
        "            dcc.Dropdown(\n",
        "                id='x-feature',\n",
        "                options=[{'label': col, 'value': col} for col in num_features],\n",
        "                value='Fresh',\n",
        "                className=\"mb-3\"\n",
        "            ),\n",
        "            dcc.Dropdown(\n",
        "                id='y-feature',\n",
        "                options=[{'label': col, 'value': col} for col in num_features],\n",
        "                value='Milk',\n",
        "                className=\"mb-3\"\n",
        "            ),\n",
        "            html.Label(\"Select Number of Clusters\"),\n",
        "            dcc.Slider(\n",
        "                id='n-clusters-slider',\n",
        "                min=2,\n",
        "                max=10,\n",
        "                step=1,\n",
        "                value=3,\n",
        "                marks={i: str(i) for i in range(2, 11)},\n",
        "                className=\"mb-4\"\n",
        "            ),\n",
        "            html.Label(\"DBSCAN: Epsilon (eps)\"),\n",
        "            dcc.Slider(\n",
        "                id='eps-slider',\n",
        "                min=0.1,\n",
        "                max=2.0,\n",
        "                step=0.1,\n",
        "                value=0.5,\n",
        "                marks={i/10: str(i/10) for i in range(1, 21)},\n",
        "                className=\"mb-4\"\n",
        "            ),\n",
        "            html.Label(\"DBSCAN: Minimum Samples\"),\n",
        "            dcc.Slider(\n",
        "                id='min-samples-slider',\n",
        "                min=1,\n",
        "                max=10,\n",
        "                step=1,\n",
        "                value=5,\n",
        "                marks={i: str(i) for i in range(1, 11)},\n",
        "                className=\"mb-4\"\n",
        "            )\n",
        "        ], width=3, className=\"p-4 bg-light shadow rounded\"),\n",
        "\n",
        "        dbc.Col([\n",
        "            dcc.Graph(id='cluster-plot', config={'scrollZoom': True, 'displaylogo': False}),\n",
        "            html.H4(\"Summary Table\"),\n",
        "            dash_table.DataTable(\n",
        "                id='summary-table',\n",
        "                style_table={'overflowX': 'auto'},\n",
        "                style_cell={'textAlign': 'center'}\n",
        "            ),\n",
        "            html.Button(\"Download Cluster Data\", id=\"download-button\", className=\"btn btn-primary mt-3\"),\n",
        "            dcc.Download(id=\"download-cluster-data\")\n",
        "        ], width=9)\n",
        "    ])\n",
        "], fluid=True)\n",
        "\n",
        "@app.callback(\n",
        "    [Output('cluster-plot', 'figure'), Output('summary-table', 'data')],\n",
        "    [Input('algorithm-dropdown', 'value'), Input('n-clusters-slider', 'value'),\n",
        "     Input('eps-slider', 'value'), Input('min-samples-slider', 'value'),\n",
        "     Input('x-feature', 'value'), Input('y-feature', 'value')]\n",
        ")\n",
        "def update_dashboard(algorithm, n_clusters, eps, min_samples, x_feature, y_feature):\n",
        "    clusters = perform_clustering(data_scaled, algorithm, n_clusters=n_clusters, eps=eps, min_samples=min_samples)\n",
        "    df['Cluster'] = clusters.astype(str)\n",
        "\n",
        "    fig = px.scatter(df, x=x_feature, y=y_feature, color=df['Cluster'],\n",
        "                     title='Clustering Results', color_discrete_sequence=px.colors.qualitative.Set1)\n",
        "\n",
        "    summary = df.groupby('Cluster').mean().round(2).reset_index().to_dict('records')\n",
        "\n",
        "    return fig, summary\n",
        "\n",
        "@app.callback(\n",
        "    Output(\"download-cluster-data\", \"data\"),\n",
        "    Input(\"download-button\", \"n_clicks\"),\n",
        "    prevent_initial_call=True\n",
        ")\n",
        "def download_csv(n_clicks):\n",
        "    return dcc.send_data_frame(df.to_csv, \"cluster_data.csv\", index=False)\n",
        "\n",
        "if __name__ == '__main__':\n",
        "    app.run_server(debug=True)\n"
      ],
      "metadata": {
        "colab": {
          "base_uri": "https://localhost:8080/",
          "height": 672
        },
        "id": "6B9hUgx57SZu",
        "outputId": "4874bd35-e7d4-4569-bdbc-68ad7781b3ac"
      },
      "execution_count": 14,
      "outputs": [
        {
          "output_type": "display_data",
          "data": {
            "text/plain": [
              "<IPython.core.display.Javascript object>"
            ],
            "application/javascript": [
              "(async (port, path, width, height, cache, element) => {\n",
              "    if (!google.colab.kernel.accessAllowed && !cache) {\n",
              "      return;\n",
              "    }\n",
              "    element.appendChild(document.createTextNode(''));\n",
              "    const url = await google.colab.kernel.proxyPort(port, {cache});\n",
              "    const iframe = document.createElement('iframe');\n",
              "    iframe.src = new URL(path, url).toString();\n",
              "    iframe.height = height;\n",
              "    iframe.width = width;\n",
              "    iframe.style.border = 0;\n",
              "    iframe.allow = [\n",
              "        'accelerometer',\n",
              "        'autoplay',\n",
              "        'camera',\n",
              "        'clipboard-read',\n",
              "        'clipboard-write',\n",
              "        'gyroscope',\n",
              "        'magnetometer',\n",
              "        'microphone',\n",
              "        'serial',\n",
              "        'usb',\n",
              "        'xr-spatial-tracking',\n",
              "    ].join('; ');\n",
              "    element.appendChild(iframe);\n",
              "  })(8050, \"/\", \"100%\", 650, false, window.element)"
            ]
          },
          "metadata": {}
        }
      ]
    },
    {
      "cell_type": "code",
      "source": [],
      "metadata": {
        "id": "tGTXxSA57Ufe"
      },
      "execution_count": null,
      "outputs": []
    }
  ]
}